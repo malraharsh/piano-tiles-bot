{
 "cells": [
  {
   "cell_type": "code",
   "execution_count": 4,
   "metadata": {},
   "outputs": [],
   "source": [
    "import random\n",
    "import time\n",
    "\n",
    "import cv2\n",
    "import imutils\n",
    "import keyboard\n",
    "import numpy as np\n",
    "import pyautogui\n",
    "import pytesseract\n",
    "import win32api\n",
    "import win32con\n",
    "from PIL import Image"
   ]
  },
  {
   "cell_type": "code",
   "execution_count": 5,
   "metadata": {},
   "outputs": [],
   "source": [
    "def getRegion():\n",
    "    while True:\n",
    "        try:\n",
    "            if keyboard.is_pressed('p'):\n",
    "                screenshot = pyautogui.screenshot()\n",
    "                screenshot = cv2.cvtColor(np.array(screenshot), cv2.COLOR_RGB2BGR)\n",
    "                break\n",
    "            else:\n",
    "                pass\n",
    "        except:\n",
    "            break\n",
    "    roi = cv2.selectROI(screenshot)\n",
    "    cv2.destroyAllWindows()\n",
    "    return roi"
   ]
  },
  {
   "cell_type": "code",
   "execution_count": 6,
   "metadata": {},
   "outputs": [],
   "source": [
    "x, y, w, h = getRegion()"
   ]
  },
  {
   "cell_type": "code",
   "execution_count": 7,
   "metadata": {},
   "outputs": [],
   "source": [
    "delay = h // 4\n",
    "jump = w // 4\n",
    "start = x + jump // 2\n",
    "end = x + w\n",
    "row = y + h\n",
    "pyautogui.moveTo(start, row)"
   ]
  },
  {
   "cell_type": "code",
   "execution_count": 8,
   "metadata": {},
   "outputs": [],
   "source": [
    "def actionClick(x, y):\n",
    "    win32api.SetCursorPos((x, y))\n",
    "    win32api.mouse_event(win32con.MOUSEEVENTF_LEFTDOWN, 0, 0)\n",
    "    time.sleep(0.01)\n",
    "    win32api.mouse_event(win32con.MOUSEEVENTF_LEFTUP, 0, 0)"
   ]
  },
  {
   "cell_type": "code",
   "execution_count": 9,
   "metadata": {},
   "outputs": [
    {
     "name": "stdout",
     "output_type": "stream",
     "text": [
      "Started\n",
      "Finished\n"
     ]
    }
   ],
   "source": [
    "positions = list(range(start, end, jump))\n",
    "\n",
    "while True:\n",
    "    if keyboard.is_pressed('esc'):\n",
    "        break\n",
    "    elif keyboard.is_pressed('s'):\n",
    "        print(\"Started\")\n",
    "        prev = -1\n",
    "        while keyboard.is_pressed('q') == False and keyboard.is_pressed('Q') == False:\n",
    "            for pos, col in enumerate(positions):\n",
    "                if prev != pos and pyautogui.pixel(col, row - delay)[0] < 50:\n",
    "                    actionClick(col, row)\n",
    "                    prev = pos\n",
    "                    break\n",
    "print(\"Finished\")"
   ]
  },
  {
   "cell_type": "code",
   "execution_count": null,
   "metadata": {},
   "outputs": [],
   "source": []
  }
 ],
 "metadata": {
  "kernelspec": {
   "display_name": "Python 3",
   "language": "python",
   "name": "python3"
  },
  "language_info": {
   "codemirror_mode": {
    "name": "ipython",
    "version": 3
   },
   "file_extension": ".py",
   "mimetype": "text/x-python",
   "name": "python",
   "nbconvert_exporter": "python",
   "pygments_lexer": "ipython3",
   "version": "3.7.5"
  }
 },
 "nbformat": 4,
 "nbformat_minor": 2
}
